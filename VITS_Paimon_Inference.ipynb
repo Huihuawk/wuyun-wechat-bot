{
  "cells": [
    {
      "cell_type": "markdown",
      "metadata": {
        "id": "EuqAdkaS1BKl"
      },
      "source": [
        "# **派蒙语音合成**\n",
        "\n",
        "![paimon](https://raw.githubusercontent.com/JOETtheIV/vits-mandarin-biaobei/main/IMG_9368.PNG)\n",
        "\n",
        "作者：VentiJ\n",
        "\n",
        "邮箱：joeyventicup@gmail.com\n",
        "\n",
        "学校：WHU\n",
        "\n",
        "QQ：2997685348\n",
        "\n",
        "B站：https://www.bilibili.com/video/BV16G4y1B7Ey?spm_id_from=333.999.0.0&vd_source=5cf950fe9d9124a5fef05e9037c07db7\n",
        "\n",
        "项目代码：https://github.com/JOETtheIV/VITS-Paimon "
      ]
    },
    {
      "cell_type": "markdown",
      "metadata": {
        "id": "Fr0DGPPqDkQV"
      },
      "source": [
        "# 配置环境\n",
        "\n",
        "请先点击右上角的**连接**，获取GPU运算资源。\n",
        "\n",
        "点击更改运行时类型（change runtime type）\n",
        "将硬件加速器改为GPU\n",
        "\n",
        "下面有很多个代码块 \n",
        "\n",
        "每个代码块左上角都有一个小方框 [ ] 点击可以运行\n",
        "\n",
        "保证依次把每个代码块都点击就不会有错了\n",
        "\n",
        "每个代码块运行需要时间 等一个运行完了再点击下一个\n",
        "\n",
        "一定要按照顺序点！！！！"
      ]
    },
    {
      "cell_type": "code",
      "execution_count": null,
      "metadata": {
        "colab": {
          "base_uri": "https://localhost:8080/"
        },
        "id": "vDtpPOKXFcow",
        "outputId": "26403a86-b72b-40c4-bb3e-e4d954cd2dd5"
      },
      "outputs": [],
      "source": [
        "!git clone https://github.com/JOETtheIV/VITS-Paimon\n",
        "%cd /content/VITS-Paimon\n",
        "!pip install -r requirements.txt\n",
        "!sudo apt-get install espeak -y\n",
        "\n",
        "%cd /content/VITS-Paimon/monotonic_align\n",
        "!python setup.py build_ext --inplace\n",
        "%cd ..\n",
        "!mkdir results"
      ]
    },
    {
      "cell_type": "code",
      "execution_count": null,
      "metadata": {
        "colab": {
          "base_uri": "https://localhost:8080/"
        },
        "id": "VKusJ314F1v9",
        "outputId": "6fb5b38e-03bc-48e7-b64d-b7f24171b68a"
      },
      "outputs": [
        {
          "name": "stdout",
          "output_type": "stream",
          "text": [
            "/content/VITS-Paimon\n"
          ]
        }
      ],
      "source": [
        "import os\n",
        "path = './VITS-Paimon'\n",
        "os.chdir(path)\n",
        "print(os.getcwd())\n",
        "\n",
        "%matplotlib inline\n",
        "import matplotlib.pyplot as plt\n",
        "import IPython.display as ipd\n",
        "\n",
        "import os\n",
        "import json\n",
        "import math\n",
        "import torch\n",
        "from torch import nn\n",
        "from torch.nn import functional as F\n",
        "from torch.utils.data import DataLoader\n",
        "\n",
        "import commons\n",
        "import utils\n",
        "from data_utils import TextAudioLoader, TextAudioCollate, TextAudioSpeakerLoader, TextAudioSpeakerCollate\n",
        "from models import SynthesizerTrn\n",
        "from text.symbols import symbols\n",
        "from text import text_to_sequence\n",
        "\n",
        "from scipy.io.wavfile import write\n",
        "\n",
        "\n",
        "def get_text(text, hps):\n",
        "    text_norm = text_to_sequence(text, hps.data.text_cleaners)\n",
        "    if hps.data.add_blank:\n",
        "        text_norm = commons.intersperse(text_norm, 0)\n",
        "    text_norm = torch.LongTensor(text_norm)\n",
        "    return text_norm"
      ]
    },
    {
      "cell_type": "markdown",
      "metadata": {
        "id": "COVCkl6vF2hd"
      },
      "source": [
        "# 加载模型 （更新至1700 epochs)\n",
        "\n",
        "\n",
        "如遇到下载人数过多导致下载失败的情况\n",
        "\n",
        "请稍安勿躁 将于晚点修复\n",
        "\n",
        "点击运行MEGA public link download 加载模型\n",
        "\n",
        "\n"
      ]
    },
    {
      "cell_type": "markdown",
      "metadata": {
        "id": "4_B5zKJeY6mE"
      },
      "source": [
        "### **🥳更新**\n",
        "\n",
        "本来以为派蒙语音到一定程度再训练下去对质量提升不大\n",
        "\n",
        "\n",
        "但最新的1700个epoch的模型相比之前有了更细腻的优化\n",
        "\n",
        "\n",
        "下面这个MEGA public link download也是代码块 记得点击一下左上角那个圆圈"
      ]
    },
    {
      "cell_type": "code",
      "execution_count": null,
      "metadata": {
        "id": "s-JdF4cqT3kj"
      },
      "outputs": [],
      "source": [
        "import sys, os, urllib.request\n",
        "import time\n",
        "import subprocess\n",
        "import contextlib\n",
        "from IPython.display import clear_output\n",
        "#@markdown <br><center><img src='https://mega.nz/favicon.ico?v=3' height=\"50\" alt=\"MEGA-logo\"/></center>\n",
        "#@markdown <center><h2>Transfer from Mega to GDrive</h2></center><br>\n",
        "HOME = os.path.expanduser(\"~\")\n",
        "if not os.path.exists(f\"{HOME}/.ipython/ocr.py\"):\n",
        "    hCode = \"https://raw.githubusercontent.com/biplobsd/\" \\\n",
        "                \"OneClickRun/master/res/ocr.py\"\n",
        "    urllib.request.urlretrieve(hCode, f\"{HOME}/.ipython/ocr.py\")\n",
        "\n",
        "from ocr import (\n",
        "    runSh,\n",
        "    loadingAn,\n",
        ")\n",
        "#@title MEGA public link download\n",
        "URL = \"https://mega.nz/file/4f0CgBaT#Hu4h_ZhVDC6V4RaS9zUeEJJY9cniqKx911z8duPSfCw\" #@param {type:\"string\"}\n",
        "OUTPUT_PATH = \"/content/VITS-Paimon\" #@param {type:\"string\"}\n",
        "#@markdown #####_*Sometimes this cell doesn't stop itself after the completion of the transfer. In case of that stop the cell manually._\n",
        "if not OUTPUT_PATH:\n",
        "  os.makedirs(\"downloads\", exist_ok=True)\n",
        "  OUTPUT_PATH = \"downloads\"\n",
        "# MEGAcmd installing\n",
        "if not os.path.exists(\"/usr/bin/mega-cmd\"):\n",
        "    loadingAn()\n",
        "    print(\"Installing MEGA ...\")\n",
        "    runSh('sudo apt-get -y update')\n",
        "    runSh('sudo apt-get -y install libmms0 libc-ares2 libc6 libcrypto++6 libgcc1 libmediainfo0v5 libpcre3 libpcrecpp0v5 libssl1.1 libstdc++6 libzen0v5 zlib1g apt-transport-https')\n",
        "    runSh('sudo curl -sL -o /var/cache/apt/archives/MEGAcmd.deb https://mega.nz/linux/MEGAsync/Debian_9.0/amd64/megacmd-Debian_9.0_amd64.deb', output=True)\n",
        "    runSh('sudo dpkg -i /var/cache/apt/archives/MEGAcmd.deb', output=True)\n",
        "    print(\"MEGA is installed.\")\n",
        "    clear_output()\n",
        "\n",
        "# Unix, Windows and old Macintosh end-of-line\n",
        "newlines = ['\\n', '\\r\\n', '\\r']\n",
        "\n",
        "def unbuffered(proc, stream='stdout'):\n",
        "    stream = getattr(proc, stream)\n",
        "    with contextlib.closing(stream):\n",
        "        while True:\n",
        "            out = []\n",
        "            last = stream.read(1)\n",
        "            # Don't loop forever\n",
        "            if last == '' and proc.poll() is not None:\n",
        "                break\n",
        "            while last not in newlines:\n",
        "                # Don't loop forever\n",
        "                if last == '' and proc.poll() is not None:\n",
        "                    break\n",
        "                out.append(last)\n",
        "                last = stream.read(1)\n",
        "            out = ''.join(out)\n",
        "            yield out\n",
        "\n",
        "\n",
        "def transfare():\n",
        "    import codecs\n",
        "    decoder = codecs.getincrementaldecoder(\"UTF-8\")()\n",
        "    cmd = [\"mega-get\", URL, OUTPUT_PATH]\n",
        "    proc = subprocess.Popen(\n",
        "        cmd,\n",
        "        stdout=subprocess.PIPE,\n",
        "        stderr=subprocess.STDOUT,\n",
        "        # Make all end-of-lines '\\n'\n",
        "        universal_newlines=True,\n",
        "    )\n",
        "    for line in unbuffered(proc):\n",
        "        print(line)\n",
        "        \n",
        "\n",
        "\n",
        "transfare()"
      ]
    },
    {
      "cell_type": "markdown",
      "metadata": {
        "id": "r5AnTRhOGb0b"
      },
      "source": [
        "# 语音合成\n",
        "\n"
      ]
    },
    {
      "cell_type": "markdown",
      "metadata": {
        "id": "vw52lsmFN4Lt"
      },
      "source": [
        "你还可以通过调节`length_scale`来控制说话的速度！注意`length_scale`默认值为1.0，值越大说话越**慢**。\n",
        "\n",
        "**Tips**\n",
        "\n",
        "1. 测试发现太长或太短的句子效果都不太好，参考文本建议分句使用。\n",
        "2. 「、」的停顿效果不是很理想，建议使用「。」或「…」。\n",
        "3. 由于数据集中去掉了大部分H片段，余下数据里各个人物说话的语调都比较平稳。因此使用「！」可能会出现破音。\n",
        "\n",
        "为生合成的语音设定一个文件名。注意不需要加扩展名！\n",
        "\n",
        "命名后运行该代码块，你将在左侧文件系统中/content/VITS-Paimon/test.wav找到它！\n",
        "\n",
        "\n",
        "如何找到文件并下载：点击左边那个栏里的VITS-Paimon \n",
        "\n",
        "在展开的文件里找到你的wav音频文件 然后右键下载就可以了\n",
        "\n",
        "![image.png](data:image/png;base64,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)"
      ]
    },
    {
      "cell_type": "code",
      "execution_count": null,
      "metadata": {
        "id": "oiPvCIJ_MHot"
      },
      "outputs": [],
      "source": [
        "hps = utils.get_hparams_from_file(\"./configs/biaobei_base.json\")\n",
        "\n",
        "net_g = SynthesizerTrn(\n",
        "    len(symbols),\n",
        "    hps.data.filter_length // 2 + 1,\n",
        "    hps.train.segment_size // hps.data.hop_length,\n",
        "    **hps.model).cuda()\n",
        "_ = net_g.eval()\n",
        "\n",
        "_ = utils.load_checkpoint('/content/VITS-Paimon/G_1434000.pth', net_g, None)\n",
        "import soundfile as sf\n",
        "text = \"\\u4E0B\\u9762\\u7ED9\\u5927\\u5BB6\\u7B80\\u5355\\u4ECB\\u7ECD\\u4E00\\u4E0B\\u600E\\u4E48\\u4F7F\\u7528\\u8FD9\\u4E2A\\u6559\\u7A0B\\u5427\\uFF01\\u9996\\u5148\\u6211\\u4EEC\\u8981\\u6709\\u9B54\\u6CD5\\uFF0C\\u624D\\u80FD\\u8BBF\\u95EE\\u5230\\u8C37\\u6B4C\\u7684\\u4E91\\u5E73\\u53F0\\u3002\\u70B9\\u51FB\\u8FDE\\u63A5\\u5E76\\u66F4\\u6539\\u8FD0\\u884C\\u65F6\\u7C7B\\u578B\\uFF0C\\u8BBE\\u7F6E\\u786C\\u4EF6\\u52A0\\u901F\\u5668\\u4E3AGPU\\u3002\\u7136\\u540E\\uFF0C\\u6211\\u4EEC\\u518D\\u4ECE\\u5934\\u5230\\u5C3E\\u6328\\u4E2A\\u70B9\\u51FB\\u6BCF\\u4E2A\\u4EE3\\u7801\\u5757\\u7684\\u8FD0\\u884C\\u6807\\u5FD7\\u3002\\u53EF\\u80FD\\u9700\\u8981\\u7B49\\u5F85\\u4E00\\u5B9A\\u7684\\u65F6\\u95F4\\u3002\\u5F53\\u6211\\u4EEC\\u8FDB\\u884C\\u5230\\u8BED\\u97F3\\u5408\\u6210\\u90E8\\u5206\\u65F6\\uFF0C\\u5C31\\u53EF\\u4EE5\\u66F4\\u6539\\u8981\\u8BF4\\u7684\\u6587\\u672C\\uFF0C\\u5E76\\u8BBE\\u7F6E\\u4FDD\\u5B58\\u7684\\u6587\\u4EF6\\u540D\\u5566\\u3002\" #@param {type: 'string'}\n",
        "length_scale = 1 #@param {type:\"slider\", min:0.1, max:3, step:0.05}\n",
        "filename = 'test' #@param {type: \"string\"}\n",
        "audio_path = f'/content/VITS-Paimon/{filename}.wav'\n",
        "stn_tst = get_text(text, hps)\n",
        "with torch.no_grad():\n",
        "    x_tst = stn_tst.cuda().unsqueeze(0)\n",
        "    x_tst_lengths = torch.LongTensor([stn_tst.size(0)]).cuda()\n",
        "    audio = net_g.infer(x_tst, x_tst_lengths, noise_scale=.667, noise_scale_w=0.8, length_scale=length_scale)[0][0,0].data.cpu().float().numpy()\n",
        "ipd.display(ipd.Audio(audio, rate=hps.data.sampling_rate))\n",
        "sf.write(audio_path,audio,samplerate=hps.data.sampling_rate)"
      ]
    },
    {
      "cell_type": "markdown",
      "metadata": {
        "id": "SORDyhL5RN5B"
      },
      "source": [
        "# 参考\n",
        "\n",
        "https://github.com/jaywalnut310/vits\n",
        "\n",
        "https://colab.research.google.com/drive/1eFmnzUU8OGMlKwFw4OJG23CmawF1_zKh?usp=sharing\n"
      ]
    }
  ],
  "metadata": {
    "accelerator": "GPU",
    "colab": {
      "provenance": []
    },
    "gpuClass": "standard",
    "kernelspec": {
      "display_name": "py11",
      "language": "python",
      "name": "python3"
    },
    "language_info": {
      "name": "python",
      "version": "3.11.0"
    },
    "vscode": {
      "interpreter": {
        "hash": "ce7ae296a1c07a3185ac3ecf23b74e428a70193a1b184f8f376af4fa46448f88"
      }
    }
  },
  "nbformat": 4,
  "nbformat_minor": 0
}
